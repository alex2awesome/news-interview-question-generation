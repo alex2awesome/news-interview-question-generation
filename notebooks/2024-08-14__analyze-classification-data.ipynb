{
 "cells": [
  {
   "cell_type": "code",
   "execution_count": 41,
   "id": "8cb6b1d4-464e-4616-81d5-1786ab5de9bd",
   "metadata": {},
   "outputs": [],
   "source": [
    "import pandas as pd \n",
    "import glob\n",
    "import matplotlib.pyplot as plt"
   ]
  },
  {
   "cell_type": "code",
   "execution_count": 53,
   "id": "9db65bc4-a6e3-4d82-b802-662330f81ce3",
   "metadata": {},
   "outputs": [
    {
     "name": "stdout",
     "output_type": "stream",
     "text": [
      "all_questions_classified_v2.zip  news_dialogue.zip\n",
      "\u001b[34minterview_dataset\u001b[m\u001b[m/               \u001b[34msample_set_questions_classified\u001b[m\u001b[m/\n",
      "news_dialogue.json\n"
     ]
    }
   ],
   "source": [
    "ls ../data/"
   ]
  },
  {
   "cell_type": "code",
   "execution_count": 69,
   "id": "8c00d88e-539e-4c39-a8bf-406a0cd1fc08",
   "metadata": {
    "scrolled": true
   },
   "outputs": [
    {
     "name": "stdout",
     "output_type": "stream",
     "text": [
      "Archive:  ../data/vllm_all_questions_classified_v3.zip\n",
      "   creating: vllm_all_questions_classified_v3/\n",
      "  inflating: vllm_all_questions_classified_v3/interview_NPR-194.csv  \n",
      "  inflating: vllm_all_questions_classified_v3/interview_NPR-70.csv  \n",
      "  inflating: vllm_all_questions_classified_v3/interview_NPR-58.csv  \n",
      "  inflating: vllm_all_questions_classified_v3/interview_NPR-65.csv  \n",
      "  inflating: vllm_all_questions_classified_v3/interview_NPR-142.csv  \n",
      "  inflating: vllm_all_questions_classified_v3/interview_NPR-140.csv  \n",
      "  inflating: vllm_all_questions_classified_v3/interview_NPR-72.csv  \n",
      "  inflating: vllm_all_questions_classified_v3/interview_NPR-66.csv  \n",
      "  inflating: vllm_all_questions_classified_v3/interview_NPR-62.csv  \n",
      "  inflating: vllm_all_questions_classified_v3/interview_NPR-353.csv  \n",
      "  inflating: vllm_all_questions_classified_v3/interview_NPR-346.csv  \n",
      "  inflating: vllm_all_questions_classified_v3/interview_NPR-77.csv  \n",
      "  inflating: vllm_all_questions_classified_v3/interview_NPR-63.csv  \n",
      "  inflating: vllm_all_questions_classified_v3/interview_NPR-193.csv  \n",
      "  inflating: vllm_all_questions_classified_v3/interview_NPR-88.csv  \n",
      "  inflating: vllm_all_questions_classified_v3/interview_NPR-232.csv  \n",
      "  inflating: vllm_all_questions_classified_v3/interview_NPR-224.csv  \n",
      "  inflating: vllm_all_questions_classified_v3/interview_NPR-75.csv  \n",
      "  inflating: vllm_all_questions_classified_v3/interview_NPR-61.csv  \n",
      "  inflating: vllm_all_questions_classified_v3/interview_NPR-345.csv  \n",
      "  inflating: vllm_all_questions_classified_v3/interview_NPR-60.csv  \n",
      "  inflating: vllm_all_questions_classified_v3/interview_NPR-295.csv  \n",
      "  inflating: vllm_all_questions_classified_v3/interview_NPR-336.csv  \n",
      "  inflating: vllm_all_questions_classified_v3/interview_NPR-337.csv  \n",
      "  inflating: vllm_all_questions_classified_v3/interview_NPR-12.csv  \n",
      "  inflating: vllm_all_questions_classified_v3/interview_NPR-135.csv  \n",
      "  inflating: vllm_all_questions_classified_v3/interview_NPR-8.csv  \n",
      "  inflating: vllm_all_questions_classified_v3/interview_NPR-257.csv  \n",
      "  inflating: vllm_all_questions_classified_v3/interview_NPR-321.csv  \n",
      "  inflating: vllm_all_questions_classified_v3/interview_NPR-309.csv  \n",
      "  inflating: vllm_all_questions_classified_v3/interview_NPR-308.csv  \n",
      "  inflating: vllm_all_questions_classified_v3/interview_NPR-268.csv  \n",
      "  inflating: vllm_all_questions_classified_v3/interview_NPR-254.csv  \n",
      "  inflating: vllm_all_questions_classified_v3/interview_NPR-278.csv  \n",
      "  inflating: vllm_all_questions_classified_v3/interview_NPR-250.csv  \n",
      "  inflating: vllm_all_questions_classified_v3/interview_NPR-29.csv  \n",
      "  inflating: vllm_all_questions_classified_v3/interview_NPR-318.csv  \n",
      "  inflating: vllm_all_questions_classified_v3/interview_NPR-245.csv  \n",
      "  inflating: vllm_all_questions_classified_v3/interview_NPR-251.csv  \n",
      "  inflating: vllm_all_questions_classified_v3/interview_NPR-279.csv  \n",
      "  inflating: vllm_all_questions_classified_v3/interview_NPR-286.csv  \n",
      "  inflating: vllm_all_questions_classified_v3/interview_NPR-292.csv  \n",
      "  inflating: vllm_all_questions_classified_v3/interview_NPR-284.csv  \n",
      "  inflating: vllm_all_questions_classified_v3/interview_NPR-253.csv  \n",
      "  inflating: vllm_all_questions_classified_v3/interview_NPR-131.csv  \n",
      "  inflating: vllm_all_questions_classified_v3/interview_NPR-246.csv  \n",
      "  inflating: vllm_all_questions_classified_v3/interview_NPR-285.csv  \n",
      "  inflating: vllm_all_questions_classified_v3/interview_NPR-101.csv  \n",
      "  inflating: vllm_all_questions_classified_v3/interview_NPR-303.csv  \n",
      "  inflating: vllm_all_questions_classified_v3/interview_NPR-114.csv  \n",
      "  inflating: vllm_all_questions_classified_v3/interview_NPR-33.csv  \n",
      "  inflating: vllm_all_questions_classified_v3/interview_NPR-276.csv  \n",
      "  inflating: vllm_all_questions_classified_v3/interview_NPR-262.csv  \n",
      "  inflating: vllm_all_questions_classified_v3/interview_NPR-274.csv  \n",
      "  inflating: vllm_all_questions_classified_v3/interview_NPR-260.csv  \n",
      "  inflating: vllm_all_questions_classified_v3/interview_NPR-248.csv  \n",
      "  inflating: vllm_all_questions_classified_v3/interview_NPR-25.csv  \n",
      "  inflating: vllm_all_questions_classified_v3/interview_NPR-328.csv  \n",
      "  inflating: vllm_all_questions_classified_v3/interview_NPR-117.csv  \n",
      "  inflating: vllm_all_questions_classified_v3/interview_NPR-249.csv  \n",
      "  inflating: vllm_all_questions_classified_v3/interview_NPR-261.csv  \n",
      "  inflating: vllm_all_questions_classified_v3/interview_NPR-265.csv  \n",
      "  inflating: vllm_all_questions_classified_v3/interview_NPR-339.csv  \n",
      "  inflating: vllm_all_questions_classified_v3/interview_NPR-310.csv  \n",
      "  inflating: vllm_all_questions_classified_v3/interview_NPR-35.csv  \n",
      "  inflating: vllm_all_questions_classified_v3/interview_NPR-264.csv  \n",
      "  inflating: vllm_all_questions_classified_v3/interview_NPR-270.csv  \n",
      "  inflating: vllm_all_questions_classified_v3/interview_NPR-266.csv  \n",
      "  inflating: vllm_all_questions_classified_v3/interview_NPR-5.csv  \n",
      "  inflating: vllm_all_questions_classified_v3/interview_NPR-307.csv  \n",
      "  inflating: vllm_all_questions_classified_v3/interview_NPR-105.csv  \n",
      "  inflating: vllm_all_questions_classified_v3/interview_NPR-4.csv  \n",
      "  inflating: vllm_all_questions_classified_v3/interview_NPR-214.csv  \n",
      "  inflating: vllm_all_questions_classified_v3/interview_NPR-189.csv  \n",
      "  inflating: vllm_all_questions_classified_v3/interview_NPR-51.csv  \n",
      "  inflating: vllm_all_questions_classified_v3/interview_NPR-349.csv  \n",
      "  inflating: vllm_all_questions_classified_v3/interview_NPR-50.csv  \n",
      "  inflating: vllm_all_questions_classified_v3/interview_NPR-177.csv  \n",
      "  inflating: vllm_all_questions_classified_v3/interview_NPR-188.csv  \n",
      "  inflating: vllm_all_questions_classified_v3/interview_NPR-201.csv  \n",
      "  inflating: vllm_all_questions_classified_v3/interview_NPR-217.csv  \n",
      "  inflating: vllm_all_questions_classified_v3/interview_NPR-85.csv  \n",
      "  inflating: vllm_all_questions_classified_v3/interview_NPR-175.csv  \n",
      "  inflating: vllm_all_questions_classified_v3/interview_NPR-52.csv  \n",
      "  inflating: vllm_all_questions_classified_v3/interview_NPR-53.csv  \n",
      "  inflating: vllm_all_questions_classified_v3/interview_NPR-47.csv  \n",
      "  inflating: vllm_all_questions_classified_v3/interview_NPR-206.csv  \n",
      "  inflating: vllm_all_questions_classified_v3/interview_NPR-43.csv  \n",
      "  inflating: vllm_all_questions_classified_v3/interview_NPR-56.csv  \n",
      "  inflating: vllm_all_questions_classified_v3/interview_NPR-171.csv  \n",
      "  inflating: vllm_all_questions_classified_v3/interview_NPR-42.csv  \n",
      "  inflating: vllm_all_questions_classified_v3/interview_NPR-213.csv  \n",
      "  inflating: vllm_all_questions_classified_v3/interview_NPR-83.csv  \n",
      "  inflating: vllm_all_questions_classified_v3/interview_NPR-173.csv  \n",
      "  inflating: vllm_all_questions_classified_v3/interview_NPR-54.csv  \n",
      "  inflating: vllm_all_questions_classified_v3/interview_NPR-40.csv  \n",
      "  inflating: vllm_all_questions_classified_v3/interview_NPR-55.csv  \n",
      "  inflating: vllm_all_questions_classified_v3/interview_NPR-69.csv  \n",
      "  inflating: vllm_all_questions_classified_v3/interview_NPR-96.csv  \n",
      "  inflating: vllm_all_questions_classified_v3/interview_NPR-199.csv  \n"
     ]
    }
   ],
   "source": [
    "! mv /Users/spangher/Downloads/vllm_all_questions_classified_v3.zip ../data/\n",
    "! unzip ../data/vllm_all_questions_classified_v3.zip\n",
    "! mv vllm_all_questions_classified_v3 ../data/\n",
    "! mv ../data/vllm_all_questions_classified_v3/ ../data/sample_set_questions_classified_3"
   ]
  },
  {
   "cell_type": "code",
   "execution_count": 71,
   "id": "c6e693d9-efd1-4ecb-bbac-ac4326410db4",
   "metadata": {},
   "outputs": [],
   "source": [
    "classified_files = glob.glob('../data/sample_set_questions_classified_3/*')"
   ]
  },
  {
   "cell_type": "code",
   "execution_count": 72,
   "id": "ea12da7b-90c3-419e-96ab-e29b81f64ca5",
   "metadata": {},
   "outputs": [],
   "source": [
    "dfs =  list(map(pd.read_csv, classified_files))\n",
    "for i, df in enumerate(dfs):\n",
    "    df['id_col'] = f'interview_{i}'\n",
    "full_df = pd.concat(dfs)"
   ]
  },
  {
   "cell_type": "code",
   "execution_count": 73,
   "id": "3c0992e4-5bc7-4abe-8725-9f6b23962b35",
   "metadata": {},
   "outputs": [
    {
     "data": {
      "text/plain": [
       "Text(0.5, 0, 'Num. Conversational Turns / Interview')"
      ]
     },
     "execution_count": 73,
     "metadata": {},
     "output_type": "execute_result"
    },
    {
     "data": {
      "image/png": "[encoded data removed]",
      "text/plain": [
       "<Figure size 640x480 with 1 Axes>"
      ]
     },
     "metadata": {},
     "output_type": "display_data"
    }
   ],
   "source": [
    "full_df['id_col'].value_counts().hist()\n",
    "plt.ylabel('Num. Interviews')\n",
    "plt.xlabel('Num. Conversational Turns / Interview')"
   ]
  },
  {
   "cell_type": "code",
   "execution_count": 89,
   "id": "83ee25be-b2c9-4f39-aaf3-b4b70f55497a",
   "metadata": {},
   "outputs": [
    {
     "data": {
      "text/plain": [
       "{'Question (Interviewer)': \"There have been reports of similar packages, like the ones that were delivered to the residents of Coudersport, these things showing up at people's houses across the country. Are you hearing from a lot of people outside Pennsylvania who found your Facebook group?\",\n",
       " 'Question type': ' Broadening Question '}"
      ]
     },
     "execution_count": 89,
     "metadata": {},
     "output_type": "execute_result"
    }
   ],
   "source": [
    "full_df[['Question (Interviewer)', 'Question type']].iloc[14].to_dict()"
   ]
  },
  {
   "cell_type": "code",
   "execution_count": 94,
   "id": "09de927c-b59f-410b-8d19-b8e3beadd8df",
   "metadata": {},
   "outputs": [
    {
     "data": {
      "text/plain": [
       "Question type\n",
       "Follow-Up Question                                                                                                                                 238\n",
       "Starting/Ending Remarks                                                                                                                            214\n",
       "Opinion/Speculation Question                                                                                                                        99\n",
       "Verification Question                                                                                                                               96\n",
       "Broadening Question                                                                                                                                 90\n",
       "Acknowledgement Statement                                                                                                                           82\n",
       "Challenge Question                                                                                                                                  53\n",
       "Topic-Transition Question                                                                                                                           50\n",
       "Starting Remarks                                                                                                                                     9\n",
       "No label(s) in brackets                                                                                                                              7\n",
       "Sarting/Ending Remarks                                                                                                                               1\n",
       "Fasiha Hassan. She is secretary general of the Student Representative Council at the University of Witwatersrand in Johannesburg. Fasiha Hassan      1\n",
       "Definition Question                                                                                                                                  1\n",
       "Ruth Sherlock                                                                                                                                        1\n",
       "Linda                                                                                                                                                1\n",
       "so it's a Starting/Ending Remark                                                                                                                     1\n",
       "Mara Liasson is being introduced                                                                                                                     1\n",
       "Mara Liasson                                                                                                                                         1\n",
       "thanks so much for speaking with us. -> Starting/Ending Remarks                                                                                      1\n",
       "Name: count, dtype: int64"
      ]
     },
     "execution_count": 94,
     "metadata": {},
     "output_type": "execute_result"
    }
   ],
   "source": [
    "full_df['Question type'].str.split(', ').explode().str.split(' or ').explode().str.strip().value_counts()"
   ]
  },
  {
   "cell_type": "code",
   "execution_count": 32,
   "id": "eb609c2b-0a29-488f-bb87-905290171ab2",
   "metadata": {},
   "outputs": [],
   "source": [
    "mkdir cache"
   ]
  },
  {
   "cell_type": "code",
   "execution_count": 95,
   "id": "365eee20-9b05-498a-a131-0998be7ad357",
   "metadata": {},
   "outputs": [],
   "source": [
    "full_df.to_csv('cache/question_categories_to_annotate_2.csv')"
   ]
  },
  {
   "cell_type": "code",
   "execution_count": 67,
   "id": "dec9df14-4314-4fbe-84ee-2c481e231f03",
   "metadata": {},
   "outputs": [
    {
     "data": {
      "text/plain": [
       "{'Question (Interviewer)': 'Siegfried Hecker is a senior fellow emeritus at the Center for International Security and Cooperation at Stanford, speaking with us today on Skype. Thanks so much for your time.',\n",
       " 'Question type': 'Establishing Empathy Question'}"
      ]
     },
     "execution_count": 67,
     "metadata": {},
     "output_type": "execute_result"
    }
   ],
   "source": [
    "{'Question (Interviewer)': 'Siegfried Hecker is a senior fellow emeritus at the Center for International Security and Cooperation at Stanford, speaking with us today on Skype. Thanks so much for your time.',\n",
    " 'Question type': 'Establishing Empathy Question'}"
   ]
  },
  {
   "cell_type": "code",
   "execution_count": null,
   "id": "7fe93627-0913-4a7e-bb9b-83c9b2ff3d88",
   "metadata": {},
   "outputs": [],
   "source": []
  },
  {
   "cell_type": "code",
   "execution_count": 38,
   "id": "17c2796b-aee0-4ce0-a03d-ba5213210d47",
   "metadata": {},
   "outputs": [
    {
     "data": {
      "text/plain": [
       "(90,)"
      ]
     },
     "execution_count": 38,
     "metadata": {},
     "output_type": "execute_result"
    }
   ],
   "source": [
    "full_df['id_col'].drop_duplicates().shape"
   ]
  },
  {
   "cell_type": "code",
   "execution_count": 17,
   "id": "811dcf1d-0f07-4957-b987-0b82d1ac837b",
   "metadata": {},
   "outputs": [
    {
     "data": {
      "text/plain": [
       "Question type\n",
       "Elaboration Question                184\n",
       "Initial Inquiry Question            176\n",
       "Establishing Empathy Question       130\n",
       "Probing Question                     62\n",
       "Opinion Seeking Question             52\n",
       "Error                                39\n",
       "Speculative Inquiry Question         30\n",
       "Clarification Question               26\n",
       "Confirmation Question                17\n",
       "Rephrasing Question                  15\n",
       "Topic Transition Question            13\n",
       "Contradiction Challenge Question     11\n",
       "Critical Inquiry Question             8\n",
       "Fact-Checking Question                8\n",
       "Scope Expansion Question              5\n",
       "Name: count, dtype: int64"
      ]
     },
     "execution_count": 17,
     "metadata": {},
     "output_type": "execute_result"
    }
   ],
   "source": [
    "df['Question type'].value_counts()"
   ]
  },
  {
   "cell_type": "code",
   "execution_count": 40,
   "id": "c8ae905a-05ec-4f77-ab1b-537b2ff8d3f3",
   "metadata": {},
   "outputs": [
    {
     "data": {
      "text/plain": [
       "\"First off, the Obama administration hasn't even said for sure that Russia is actually behind these hacks. Are you so sure?\""
      ]
     },
     "execution_count": 40,
     "metadata": {},
     "output_type": "execute_result"
    }
   ],
   "source": [
    "full_df.loc[lambda df: df['Question type'] == 'Fact-Checking Question']['Question (Interviewer)'].iloc[0]"
   ]
  },
  {
   "cell_type": "code",
   "execution_count": null,
   "id": "9449d0f8-7cac-4eec-a9b9-7948e4e2e615",
   "metadata": {},
   "outputs": [],
   "source": []
  }
 ],
 "metadata": {
  "kernelspec": {
   "display_name": "Python 3 (ipykernel)",
   "language": "python",
   "name": "python3"
  },
  "language_info": {
   "codemirror_mode": {
    "name": "ipython",
    "version": 3
   },
   "file_extension": ".py",
   "mimetype": "text/x-python",
   "name": "python",
   "nbconvert_exporter": "python",
   "pygments_lexer": "ipython3",
   "version": "3.12.2"
  }
 },
 "nbformat": 4,
 "nbformat_minor": 5
}
