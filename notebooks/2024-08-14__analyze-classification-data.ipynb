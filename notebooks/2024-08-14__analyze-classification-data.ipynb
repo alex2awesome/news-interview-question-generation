{
 "cells": [
  {
   "cell_type": "code",
   "execution_count": 25,
   "id": "8cb6b1d4-464e-4616-81d5-1786ab5de9bd",
   "metadata": {},
   "outputs": [],
   "source": [
    "import pandas as pd \n",
    "import glob\n",
    "import matplotlib.pyplot as plt"
   ]
  },
  {
   "cell_type": "code",
   "execution_count": 4,
   "id": "8c00d88e-539e-4c39-a8bf-406a0cd1fc08",
   "metadata": {},
   "outputs": [],
   "source": [
    "# mv /Users/spangher/Downloads/all_questions_classified/ ../data/\n",
    "# mv ../data/all_questions_classified/ ../data/sample_set_questions_classified"
   ]
  },
  {
   "cell_type": "code",
   "execution_count": 6,
   "id": "c6e693d9-efd1-4ecb-bbac-ac4326410db4",
   "metadata": {},
   "outputs": [],
   "source": [
    "classified_files = glob.glob('../data/sample_set_questions_classified/*')"
   ]
  },
  {
   "cell_type": "code",
   "execution_count": 20,
   "id": "ea12da7b-90c3-419e-96ab-e29b81f64ca5",
   "metadata": {},
   "outputs": [],
   "source": [
    "dfs =  list(map(pd.read_csv, classified_files))\n",
    "for i, df in enumerate(dfs):\n",
    "    df['id_col'] = f'interview_{i}'\n",
    "full_df = pd.concat(dfs)"
   ]
  },
  {
   "cell_type": "code",
   "execution_count": 27,
   "id": "3c0992e4-5bc7-4abe-8725-9f6b23962b35",
   "metadata": {},
   "outputs": [
    {
     "data": {
      "text/plain": [
       "Text(0.5, 0, 'Num. Conversational Turns / Interview')"
      ]
     },
     "execution_count": 27,
     "metadata": {},
     "output_type": "execute_result"
    },
    {
     "data": {
      "image/png": "[encoded data removed]",
      "text/plain": [
       "<Figure size 640x480 with 1 Axes>"
      ]
     },
     "metadata": {},
     "output_type": "display_data"
    }
   ],
   "source": [
    "full_df['id_col'].value_counts().hist()\n",
    "plt.ylabel('Num. Interviews')\n",
    "plt.xlabel('Num. Conversational Turns / Interview')"
   ]
  },
  {
   "cell_type": "code",
   "execution_count": 30,
   "id": "83ee25be-b2c9-4f39-aaf3-b4b70f55497a",
   "metadata": {},
   "outputs": [
    {
     "data": {
      "text/plain": [
       "{'Question (Interviewer)': 'Siegfried Hecker is a senior fellow emeritus at the Center for International Security and Cooperation at Stanford, speaking with us today on Skype. Thanks so much for your time.',\n",
       " 'Question type': 'Establishing Empathy Question'}"
      ]
     },
     "execution_count": 30,
     "metadata": {},
     "output_type": "execute_result"
    }
   ],
   "source": [
    "full_df[['Question (Interviewer)', 'Question type']].iloc[].to_dict()"
   ]
  },
  {
   "cell_type": "code",
   "execution_count": 32,
   "id": "eb609c2b-0a29-488f-bb87-905290171ab2",
   "metadata": {},
   "outputs": [],
   "source": [
    "mkdir cache"
   ]
  },
  {
   "cell_type": "code",
   "execution_count": 34,
   "id": "365eee20-9b05-498a-a131-0998be7ad357",
   "metadata": {},
   "outputs": [],
   "source": [
    "full_df.to_csv('cache/question_categories_to_annotate.csv')"
   ]
  },
  {
   "cell_type": "code",
   "execution_count": null,
   "id": "dec9df14-4314-4fbe-84ee-2c481e231f03",
   "metadata": {},
   "outputs": [],
   "source": [
    "{'Question (Interviewer)': 'Siegfried Hecker is a senior fellow emeritus at the Center for International Security and Cooperation at Stanford, speaking with us today on Skype. Thanks so much for your time.',\n",
    " 'Question type': 'Establishing Empathy Question'}"
   ]
  },
  {
   "cell_type": "code",
   "execution_count": null,
   "id": "7fe93627-0913-4a7e-bb9b-83c9b2ff3d88",
   "metadata": {},
   "outputs": [],
   "source": []
  },
  {
   "cell_type": "code",
   "execution_count": 38,
   "id": "17c2796b-aee0-4ce0-a03d-ba5213210d47",
   "metadata": {},
   "outputs": [
    {
     "data": {
      "text/plain": [
       "(90,)"
      ]
     },
     "execution_count": 38,
     "metadata": {},
     "output_type": "execute_result"
    }
   ],
   "source": [
    "full_df['id_col'].drop_duplicates().shape"
   ]
  },
  {
   "cell_type": "code",
   "execution_count": 17,
   "id": "811dcf1d-0f07-4957-b987-0b82d1ac837b",
   "metadata": {},
   "outputs": [
    {
     "data": {
      "text/plain": [
       "Question type\n",
       "Elaboration Question                184\n",
       "Initial Inquiry Question            176\n",
       "Establishing Empathy Question       130\n",
       "Probing Question                     62\n",
       "Opinion Seeking Question             52\n",
       "Error                                39\n",
       "Speculative Inquiry Question         30\n",
       "Clarification Question               26\n",
       "Confirmation Question                17\n",
       "Rephrasing Question                  15\n",
       "Topic Transition Question            13\n",
       "Contradiction Challenge Question     11\n",
       "Critical Inquiry Question             8\n",
       "Fact-Checking Question                8\n",
       "Scope Expansion Question              5\n",
       "Name: count, dtype: int64"
      ]
     },
     "execution_count": 17,
     "metadata": {},
     "output_type": "execute_result"
    }
   ],
   "source": [
    "df['Question type'].value_counts()"
   ]
  },
  {
   "cell_type": "code",
   "execution_count": 40,
   "id": "c8ae905a-05ec-4f77-ab1b-537b2ff8d3f3",
   "metadata": {},
   "outputs": [
    {
     "data": {
      "text/plain": [
       "\"First off, the Obama administration hasn't even said for sure that Russia is actually behind these hacks. Are you so sure?\""
      ]
     },
     "execution_count": 40,
     "metadata": {},
     "output_type": "execute_result"
    }
   ],
   "source": [
    "full_df.loc[lambda df: df['Question type'] == 'Fact-Checking Question']['Question (Interviewer)'].iloc[0]"
   ]
  },
  {
   "cell_type": "code",
   "execution_count": null,
   "id": "9449d0f8-7cac-4eec-a9b9-7948e4e2e615",
   "metadata": {},
   "outputs": [],
   "source": []
  }
 ],
 "metadata": {
  "kernelspec": {
   "display_name": "Python 3 (ipykernel)",
   "language": "python",
   "name": "python3"
  },
  "language_info": {
   "codemirror_mode": {
    "name": "ipython",
    "version": 3
   },
   "file_extension": ".py",
   "mimetype": "text/x-python",
   "name": "python",
   "nbconvert_exporter": "python",
   "pygments_lexer": "ipython3",
   "version": "3.12.2"
  }
 },
 "nbformat": 4,
 "nbformat_minor": 5
}
